{
 "cells": [
  {
   "cell_type": "code",
   "execution_count": 1,
   "id": "b159a762",
   "metadata": {
    "_cell_guid": "b1076dfc-b9ad-4769-8c92-a6c4dae69d19",
    "_uuid": "8f2839f25d086af736a60e9eeb907d3b93b6e0e5",
    "execution": {
     "iopub.execute_input": "2021-07-13T17:25:57.415581Z",
     "iopub.status.busy": "2021-07-13T17:25:57.414344Z",
     "iopub.status.idle": "2021-07-13T17:25:57.443290Z",
     "shell.execute_reply": "2021-07-13T17:25:57.443765Z",
     "shell.execute_reply.started": "2021-07-11T15:34:42.055981Z"
    },
    "papermill": {
     "duration": 0.07037,
     "end_time": "2021-07-13T17:25:57.444052",
     "exception": false,
     "start_time": "2021-07-13T17:25:57.373682",
     "status": "completed"
    },
    "tags": []
   },
   "outputs": [
    {
     "name": "stdout",
     "output_type": "stream",
     "text": [
      "/kaggle/input/ipl-complete-dataset-20082020/IPL Matches 2008-2020.csv\n",
      "/kaggle/input/ipl-complete-dataset-20082020/IPL Ball-by-Ball 2008-2020.csv\n"
     ]
    }
   ],
   "source": [
    "# This Python 3 environment comes with many helpful analytics libraries installed\n",
    "# It is defined by the kaggle/python Docker image: https://github.com/kaggle/docker-python\n",
    "# For example, here's several helpful packages to load\n",
    "\n",
    "import numpy as np # linear algebra\n",
    "import pandas as pd # data processing, CSV file I/O (e.g. pd.read_csv)\n",
    "\n",
    "# Input data files are available in the read-only \"../input/\" directory\n",
    "# For example, running this (by clicking run or pressing Shift+Enter) will list all files under the input directory\n",
    "\n",
    "import os\n",
    "for dirname, _, filenames in os.walk('/kaggle/input'):\n",
    "    for filename in filenames:\n",
    "        print(os.path.join(dirname, filename))\n",
    "\n",
    "# You can write up to 20GB to the current directory (/kaggle/working/) that gets preserved as output when you create a version using \"Save & Run All\" \n",
    "# You can also write temporary files to /kaggle/temp/, but they won't be saved outside of the current session"
   ]
  },
  {
   "cell_type": "code",
   "execution_count": 2,
   "id": "1a44ed09",
   "metadata": {
    "execution": {
     "iopub.execute_input": "2021-07-13T17:25:57.520387Z",
     "iopub.status.busy": "2021-07-13T17:25:57.519744Z",
     "iopub.status.idle": "2021-07-13T17:25:58.517317Z",
     "shell.execute_reply": "2021-07-13T17:25:58.516739Z",
     "shell.execute_reply.started": "2021-07-11T15:34:42.071998Z"
    },
    "papermill": {
     "duration": 1.035991,
     "end_time": "2021-07-13T17:25:58.517454",
     "exception": false,
     "start_time": "2021-07-13T17:25:57.481463",
     "status": "completed"
    },
    "tags": []
   },
   "outputs": [],
   "source": [
    "import matplotlib.pyplot as plt\n",
    "import seaborn as sns"
   ]
  },
  {
   "cell_type": "markdown",
   "id": "1c99a06a",
   "metadata": {
    "papermill": {
     "duration": 0.043235,
     "end_time": "2021-07-13T17:25:58.597988",
     "exception": false,
     "start_time": "2021-07-13T17:25:58.554753",
     "status": "completed"
    },
    "tags": []
   },
   "source": [
    "# **First dataset:ipl-complete-dataset-20082020/IPL Matches 2008-2020**"
   ]
  },
  {
   "cell_type": "code",
   "execution_count": 3,
   "id": "b69020c4",
   "metadata": {
    "execution": {
     "iopub.execute_input": "2021-07-13T17:25:58.687249Z",
     "iopub.status.busy": "2021-07-13T17:25:58.686413Z",
     "iopub.status.idle": "2021-07-13T17:25:58.743119Z",
     "shell.execute_reply": "2021-07-13T17:25:58.742429Z",
     "shell.execute_reply.started": "2021-07-11T15:34:43.070198Z"
    },
    "papermill": {
     "duration": 0.101178,
     "end_time": "2021-07-13T17:25:58.743264",
     "exception": false,
     "start_time": "2021-07-13T17:25:58.642086",
     "status": "completed"
    },
    "tags": []
   },
   "outputs": [
    {
     "data": {
      "text/html": [
       "<div>\n",
       "<style scoped>\n",
       "    .dataframe tbody tr th:only-of-type {\n",
       "        vertical-align: middle;\n",
       "    }\n",
       "\n",
       "    .dataframe tbody tr th {\n",
       "        vertical-align: top;\n",
       "    }\n",
       "\n",
       "    .dataframe thead th {\n",
       "        text-align: right;\n",
       "    }\n",
       "</style>\n",
       "<table border=\"1\" class=\"dataframe\">\n",
       "  <thead>\n",
       "    <tr style=\"text-align: right;\">\n",
       "      <th></th>\n",
       "      <th>id</th>\n",
       "      <th>city</th>\n",
       "      <th>date</th>\n",
       "      <th>player_of_match</th>\n",
       "      <th>venue</th>\n",
       "      <th>neutral_venue</th>\n",
       "      <th>team1</th>\n",
       "      <th>team2</th>\n",
       "      <th>toss_winner</th>\n",
       "      <th>toss_decision</th>\n",
       "      <th>winner</th>\n",
       "      <th>result</th>\n",
       "      <th>result_margin</th>\n",
       "      <th>eliminator</th>\n",
       "      <th>method</th>\n",
       "      <th>umpire1</th>\n",
       "      <th>umpire2</th>\n",
       "    </tr>\n",
       "  </thead>\n",
       "  <tbody>\n",
       "    <tr>\n",
       "      <th>0</th>\n",
       "      <td>335982</td>\n",
       "      <td>Bangalore</td>\n",
       "      <td>2008-04-18</td>\n",
       "      <td>BB McCullum</td>\n",
       "      <td>M Chinnaswamy Stadium</td>\n",
       "      <td>0</td>\n",
       "      <td>Royal Challengers Bangalore</td>\n",
       "      <td>Kolkata Knight Riders</td>\n",
       "      <td>Royal Challengers Bangalore</td>\n",
       "      <td>field</td>\n",
       "      <td>Kolkata Knight Riders</td>\n",
       "      <td>runs</td>\n",
       "      <td>140.0</td>\n",
       "      <td>N</td>\n",
       "      <td>NaN</td>\n",
       "      <td>Asad Rauf</td>\n",
       "      <td>RE Koertzen</td>\n",
       "    </tr>\n",
       "    <tr>\n",
       "      <th>1</th>\n",
       "      <td>335983</td>\n",
       "      <td>Chandigarh</td>\n",
       "      <td>2008-04-19</td>\n",
       "      <td>MEK Hussey</td>\n",
       "      <td>Punjab Cricket Association Stadium, Mohali</td>\n",
       "      <td>0</td>\n",
       "      <td>Kings XI Punjab</td>\n",
       "      <td>Chennai Super Kings</td>\n",
       "      <td>Chennai Super Kings</td>\n",
       "      <td>bat</td>\n",
       "      <td>Chennai Super Kings</td>\n",
       "      <td>runs</td>\n",
       "      <td>33.0</td>\n",
       "      <td>N</td>\n",
       "      <td>NaN</td>\n",
       "      <td>MR Benson</td>\n",
       "      <td>SL Shastri</td>\n",
       "    </tr>\n",
       "    <tr>\n",
       "      <th>2</th>\n",
       "      <td>335984</td>\n",
       "      <td>Delhi</td>\n",
       "      <td>2008-04-19</td>\n",
       "      <td>MF Maharoof</td>\n",
       "      <td>Feroz Shah Kotla</td>\n",
       "      <td>0</td>\n",
       "      <td>Delhi Daredevils</td>\n",
       "      <td>Rajasthan Royals</td>\n",
       "      <td>Rajasthan Royals</td>\n",
       "      <td>bat</td>\n",
       "      <td>Delhi Daredevils</td>\n",
       "      <td>wickets</td>\n",
       "      <td>9.0</td>\n",
       "      <td>N</td>\n",
       "      <td>NaN</td>\n",
       "      <td>Aleem Dar</td>\n",
       "      <td>GA Pratapkumar</td>\n",
       "    </tr>\n",
       "    <tr>\n",
       "      <th>3</th>\n",
       "      <td>335985</td>\n",
       "      <td>Mumbai</td>\n",
       "      <td>2008-04-20</td>\n",
       "      <td>MV Boucher</td>\n",
       "      <td>Wankhede Stadium</td>\n",
       "      <td>0</td>\n",
       "      <td>Mumbai Indians</td>\n",
       "      <td>Royal Challengers Bangalore</td>\n",
       "      <td>Mumbai Indians</td>\n",
       "      <td>bat</td>\n",
       "      <td>Royal Challengers Bangalore</td>\n",
       "      <td>wickets</td>\n",
       "      <td>5.0</td>\n",
       "      <td>N</td>\n",
       "      <td>NaN</td>\n",
       "      <td>SJ Davis</td>\n",
       "      <td>DJ Harper</td>\n",
       "    </tr>\n",
       "    <tr>\n",
       "      <th>4</th>\n",
       "      <td>335986</td>\n",
       "      <td>Kolkata</td>\n",
       "      <td>2008-04-20</td>\n",
       "      <td>DJ Hussey</td>\n",
       "      <td>Eden Gardens</td>\n",
       "      <td>0</td>\n",
       "      <td>Kolkata Knight Riders</td>\n",
       "      <td>Deccan Chargers</td>\n",
       "      <td>Deccan Chargers</td>\n",
       "      <td>bat</td>\n",
       "      <td>Kolkata Knight Riders</td>\n",
       "      <td>wickets</td>\n",
       "      <td>5.0</td>\n",
       "      <td>N</td>\n",
       "      <td>NaN</td>\n",
       "      <td>BF Bowden</td>\n",
       "      <td>K Hariharan</td>\n",
       "    </tr>\n",
       "  </tbody>\n",
       "</table>\n",
       "</div>"
      ],
      "text/plain": [
       "       id        city        date player_of_match  \\\n",
       "0  335982   Bangalore  2008-04-18     BB McCullum   \n",
       "1  335983  Chandigarh  2008-04-19      MEK Hussey   \n",
       "2  335984       Delhi  2008-04-19     MF Maharoof   \n",
       "3  335985      Mumbai  2008-04-20      MV Boucher   \n",
       "4  335986     Kolkata  2008-04-20       DJ Hussey   \n",
       "\n",
       "                                        venue  neutral_venue  \\\n",
       "0                       M Chinnaswamy Stadium              0   \n",
       "1  Punjab Cricket Association Stadium, Mohali              0   \n",
       "2                            Feroz Shah Kotla              0   \n",
       "3                            Wankhede Stadium              0   \n",
       "4                                Eden Gardens              0   \n",
       "\n",
       "                         team1                        team2  \\\n",
       "0  Royal Challengers Bangalore        Kolkata Knight Riders   \n",
       "1              Kings XI Punjab          Chennai Super Kings   \n",
       "2             Delhi Daredevils             Rajasthan Royals   \n",
       "3               Mumbai Indians  Royal Challengers Bangalore   \n",
       "4        Kolkata Knight Riders              Deccan Chargers   \n",
       "\n",
       "                   toss_winner toss_decision                       winner  \\\n",
       "0  Royal Challengers Bangalore         field        Kolkata Knight Riders   \n",
       "1          Chennai Super Kings           bat          Chennai Super Kings   \n",
       "2             Rajasthan Royals           bat             Delhi Daredevils   \n",
       "3               Mumbai Indians           bat  Royal Challengers Bangalore   \n",
       "4              Deccan Chargers           bat        Kolkata Knight Riders   \n",
       "\n",
       "    result  result_margin eliminator method    umpire1         umpire2  \n",
       "0     runs          140.0          N    NaN  Asad Rauf     RE Koertzen  \n",
       "1     runs           33.0          N    NaN  MR Benson      SL Shastri  \n",
       "2  wickets            9.0          N    NaN  Aleem Dar  GA Pratapkumar  \n",
       "3  wickets            5.0          N    NaN   SJ Davis       DJ Harper  \n",
       "4  wickets            5.0          N    NaN  BF Bowden     K Hariharan  "
      ]
     },
     "execution_count": 3,
     "metadata": {},
     "output_type": "execute_result"
    }
   ],
   "source": [
    "data=pd.read_csv(\"/kaggle/input/ipl-complete-dataset-20082020/IPL Matches 2008-2020.csv\")\n",
    "data.head()"
   ]
  },
  {
   "cell_type": "code",
   "execution_count": 4,
   "id": "b6c641cc",
   "metadata": {
    "execution": {
     "iopub.execute_input": "2021-07-13T17:25:58.842143Z",
     "iopub.status.busy": "2021-07-13T17:25:58.841491Z",
     "iopub.status.idle": "2021-07-13T17:25:58.846497Z",
     "shell.execute_reply": "2021-07-13T17:25:58.847009Z",
     "shell.execute_reply.started": "2021-07-11T15:34:43.125373Z"
    },
    "papermill": {
     "duration": 0.067151,
     "end_time": "2021-07-13T17:25:58.847208",
     "exception": false,
     "start_time": "2021-07-13T17:25:58.780057",
     "status": "completed"
    },
    "tags": []
   },
   "outputs": [
    {
     "name": "stdout",
     "output_type": "stream",
     "text": [
      "<class 'pandas.core.frame.DataFrame'>\n",
      "RangeIndex: 816 entries, 0 to 815\n",
      "Data columns (total 17 columns):\n",
      " #   Column           Non-Null Count  Dtype  \n",
      "---  ------           --------------  -----  \n",
      " 0   id               816 non-null    int64  \n",
      " 1   city             803 non-null    object \n",
      " 2   date             816 non-null    object \n",
      " 3   player_of_match  812 non-null    object \n",
      " 4   venue            816 non-null    object \n",
      " 5   neutral_venue    816 non-null    int64  \n",
      " 6   team1            816 non-null    object \n",
      " 7   team2            816 non-null    object \n",
      " 8   toss_winner      816 non-null    object \n",
      " 9   toss_decision    816 non-null    object \n",
      " 10  winner           812 non-null    object \n",
      " 11  result           812 non-null    object \n",
      " 12  result_margin    799 non-null    float64\n",
      " 13  eliminator       812 non-null    object \n",
      " 14  method           19 non-null     object \n",
      " 15  umpire1          816 non-null    object \n",
      " 16  umpire2          816 non-null    object \n",
      "dtypes: float64(1), int64(2), object(14)\n",
      "memory usage: 108.5+ KB\n"
     ]
    }
   ],
   "source": [
    "data.info()  #Get information about the dataset"
   ]
  },
  {
   "cell_type": "code",
   "execution_count": 5,
   "id": "56e310a3",
   "metadata": {
    "execution": {
     "iopub.execute_input": "2021-07-13T17:25:58.930123Z",
     "iopub.status.busy": "2021-07-13T17:25:58.929074Z",
     "iopub.status.idle": "2021-07-13T17:25:58.932751Z",
     "shell.execute_reply": "2021-07-13T17:25:58.932242Z",
     "shell.execute_reply.started": "2021-07-11T15:34:43.151289Z"
    },
    "papermill": {
     "duration": 0.047702,
     "end_time": "2021-07-13T17:25:58.932894",
     "exception": false,
     "start_time": "2021-07-13T17:25:58.885192",
     "status": "completed"
    },
    "tags": []
   },
   "outputs": [],
   "source": [
    "data.drop(['method'],axis=1,inplace=True)"
   ]
  },
  {
   "cell_type": "code",
   "execution_count": 6,
   "id": "33937eef",
   "metadata": {
    "execution": {
     "iopub.execute_input": "2021-07-13T17:25:59.014181Z",
     "iopub.status.busy": "2021-07-13T17:25:59.013488Z",
     "iopub.status.idle": "2021-07-13T17:25:59.025465Z",
     "shell.execute_reply": "2021-07-13T17:25:59.025971Z",
     "shell.execute_reply.started": "2021-07-11T15:34:43.164286Z"
    },
    "papermill": {
     "duration": 0.056386,
     "end_time": "2021-07-13T17:25:59.026166",
     "exception": false,
     "start_time": "2021-07-13T17:25:58.969780",
     "status": "completed"
    },
    "tags": []
   },
   "outputs": [
    {
     "name": "stdout",
     "output_type": "stream",
     "text": [
      "<class 'pandas.core.frame.DataFrame'>\n",
      "RangeIndex: 816 entries, 0 to 815\n",
      "Data columns (total 16 columns):\n",
      " #   Column           Non-Null Count  Dtype  \n",
      "---  ------           --------------  -----  \n",
      " 0   id               816 non-null    int64  \n",
      " 1   city             803 non-null    object \n",
      " 2   date             816 non-null    object \n",
      " 3   player_of_match  812 non-null    object \n",
      " 4   venue            816 non-null    object \n",
      " 5   neutral_venue    816 non-null    int64  \n",
      " 6   team1            816 non-null    object \n",
      " 7   team2            816 non-null    object \n",
      " 8   toss_winner      816 non-null    object \n",
      " 9   toss_decision    816 non-null    object \n",
      " 10  winner           812 non-null    object \n",
      " 11  result           812 non-null    object \n",
      " 12  result_margin    799 non-null    float64\n",
      " 13  eliminator       812 non-null    object \n",
      " 14  umpire1          816 non-null    object \n",
      " 15  umpire2          816 non-null    object \n",
      "dtypes: float64(1), int64(2), object(13)\n",
      "memory usage: 102.1+ KB\n"
     ]
    }
   ],
   "source": [
    "data.info()  #method column removed"
   ]
  },
  {
   "cell_type": "code",
   "execution_count": 7,
   "id": "e827fe08",
   "metadata": {
    "execution": {
     "iopub.execute_input": "2021-07-13T17:25:59.112414Z",
     "iopub.status.busy": "2021-07-13T17:25:59.108580Z",
     "iopub.status.idle": "2021-07-13T17:25:59.116637Z",
     "shell.execute_reply": "2021-07-13T17:25:59.116094Z",
     "shell.execute_reply.started": "2021-07-11T15:34:43.186875Z"
    },
    "papermill": {
     "duration": 0.053035,
     "end_time": "2021-07-13T17:25:59.116783",
     "exception": false,
     "start_time": "2021-07-13T17:25:59.063748",
     "status": "completed"
    },
    "tags": []
   },
   "outputs": [
    {
     "name": "stdout",
     "output_type": "stream",
     "text": [
      "Winner                     \n",
      "Mumbai Indians                 120\n",
      "Chennai Super Kings            106\n",
      "Kolkata Knight Riders           99\n",
      "Royal Challengers Bangalore     91\n",
      "Kings XI Punjab                 88\n",
      "Rajasthan Royals                81\n",
      "Delhi Daredevils                67\n",
      "Sunrisers Hyderabad             66\n",
      "Deccan Chargers                 29\n",
      "Delhi Capitals                  19\n",
      "Gujarat Lions                   13\n",
      "Pune Warriors                   12\n",
      "Rising Pune Supergiant          10\n",
      "Kochi Tuskers Kerala             6\n",
      "Rising Pune Supergiants          5\n",
      "dtype: int64\n"
     ]
    }
   ],
   "source": [
    "temp=pd.DataFrame({\"Winner\":data['winner']})\n",
    "count=temp.value_counts()\n",
    "print(count)"
   ]
  },
  {
   "cell_type": "markdown",
   "id": "84a848d6",
   "metadata": {
    "papermill": {
     "duration": 0.037147,
     "end_time": "2021-07-13T17:25:59.191508",
     "exception": false,
     "start_time": "2021-07-13T17:25:59.154361",
     "status": "completed"
    },
    "tags": []
   },
   "source": [
    "# **Most wins in IPL**"
   ]
  },
  {
   "cell_type": "code",
   "execution_count": 8,
   "id": "23f22484",
   "metadata": {
    "execution": {
     "iopub.execute_input": "2021-07-13T17:25:59.271270Z",
     "iopub.status.busy": "2021-07-13T17:25:59.270516Z",
     "iopub.status.idle": "2021-07-13T17:25:59.277149Z",
     "shell.execute_reply": "2021-07-13T17:25:59.276592Z",
     "shell.execute_reply.started": "2021-07-11T15:34:43.204647Z"
    },
    "papermill": {
     "duration": 0.047775,
     "end_time": "2021-07-13T17:25:59.277291",
     "exception": false,
     "start_time": "2021-07-13T17:25:59.229516",
     "status": "completed"
    },
    "tags": []
   },
   "outputs": [
    {
     "name": "stdout",
     "output_type": "stream",
     "text": [
      "['Mumbai Indians', 'Chennai Super Kings', 'Kolkata Knight Riders', 'Royal Challengers Bangalore', 'Kings XI Punjab', 'Rajasthan Royals', 'Delhi Daredevils', 'Sunrisers Hyderabad', 'Deccan Chargers', 'Delhi Capitals', 'Gujarat Lions', 'Pune Warriors', 'Rising Pune Supergiant', 'Kochi Tuskers Kerala', 'Rising Pune Supergiants']\n"
     ]
    }
   ],
   "source": [
    "#Storing the teams name in list\n",
    "label=[]\n",
    "for i in count.keys():\n",
    "    label.append(i[0])\n",
    "print(label)\n"
   ]
  },
  {
   "cell_type": "code",
   "execution_count": 9,
   "id": "a633b622",
   "metadata": {
    "execution": {
     "iopub.execute_input": "2021-07-13T17:25:59.373309Z",
     "iopub.status.busy": "2021-07-13T17:25:59.368278Z",
     "iopub.status.idle": "2021-07-13T17:25:59.660865Z",
     "shell.execute_reply": "2021-07-13T17:25:59.661374Z",
     "shell.execute_reply.started": "2021-07-11T15:34:43.211919Z"
    },
    "papermill": {
     "duration": 0.34633,
     "end_time": "2021-07-13T17:25:59.661542",
     "exception": false,
     "start_time": "2021-07-13T17:25:59.315212",
     "status": "completed"
    },
    "tags": []
   },
   "outputs": [
    {
     "data": {
      "image/png": "[encoded data removed]",
      "text/plain": [
       "<Figure size 1440x864 with 1 Axes>"
      ]
     },
     "metadata": {},
     "output_type": "display_data"
    }
   ],
   "source": [
    "bar,ax=plt.subplots(figsize=(20,12))\n",
    "ax=plt.pie(x=count,autopct=\"%.1f%%\",labels=label)\n",
    "plt.title(\"Most wins by a team in IPl\",fontsize=15)\n",
    "plt.show()"
   ]
  },
  {
   "cell_type": "code",
   "execution_count": 10,
   "id": "2c91cad9",
   "metadata": {
    "execution": {
     "iopub.execute_input": "2021-07-13T17:25:59.749288Z",
     "iopub.status.busy": "2021-07-13T17:25:59.748507Z",
     "iopub.status.idle": "2021-07-13T17:26:00.002980Z",
     "shell.execute_reply": "2021-07-13T17:26:00.002380Z",
     "shell.execute_reply.started": "2021-07-11T15:34:43.53218Z"
    },
    "papermill": {
     "duration": 0.299826,
     "end_time": "2021-07-13T17:26:00.003137",
     "exception": false,
     "start_time": "2021-07-13T17:25:59.703311",
     "status": "completed"
    },
    "tags": []
   },
   "outputs": [
    {
     "name": "stderr",
     "output_type": "stream",
     "text": [
      "/opt/conda/lib/python3.7/site-packages/seaborn/_decorators.py:43: FutureWarning: Pass the following variable as a keyword arg: x. From version 0.12, the only valid positional argument will be `data`, and passing other arguments without an explicit keyword will result in an error or misinterpretation.\n",
      "  FutureWarning\n"
     ]
    },
    {
     "data": {
      "image/png": "[encoded data removed]",
      "text/plain": [
       "<Figure size 432x288 with 1 Axes>"
      ]
     },
     "metadata": {
      "needs_background": "light"
     },
     "output_type": "display_data"
    }
   ],
   "source": [
    "#Another way of represnting using countplot\n",
    "sns.countplot(data['winner'],data=data)\n",
    "plt.title(\"Most wins in IPL\",fontsize=17)\n",
    "plt.xticks(rotation=90)\n",
    "plt.show()"
   ]
  },
  {
   "cell_type": "markdown",
   "id": "a71410f3",
   "metadata": {
    "papermill": {
     "duration": 0.042845,
     "end_time": "2021-07-13T17:26:00.088067",
     "exception": false,
     "start_time": "2021-07-13T17:26:00.045222",
     "status": "completed"
    },
    "tags": []
   },
   "source": [
    "# Most Wins in an Eliminator"
   ]
  },
  {
   "cell_type": "code",
   "execution_count": 11,
   "id": "357518d1",
   "metadata": {
    "execution": {
     "iopub.execute_input": "2021-07-13T17:26:00.210322Z",
     "iopub.status.busy": "2021-07-13T17:26:00.201625Z",
     "iopub.status.idle": "2021-07-13T17:26:00.355224Z",
     "shell.execute_reply": "2021-07-13T17:26:00.354564Z",
     "shell.execute_reply.started": "2021-07-11T15:34:43.793224Z"
    },
    "papermill": {
     "duration": 0.223739,
     "end_time": "2021-07-13T17:26:00.355426",
     "exception": false,
     "start_time": "2021-07-13T17:26:00.131687",
     "status": "completed"
    },
    "tags": []
   },
   "outputs": [
    {
     "name": "stderr",
     "output_type": "stream",
     "text": [
      "/opt/conda/lib/python3.7/site-packages/seaborn/_decorators.py:43: FutureWarning: Pass the following variable as a keyword arg: x. From version 0.12, the only valid positional argument will be `data`, and passing other arguments without an explicit keyword will result in an error or misinterpretation.\n",
      "  FutureWarning\n"
     ]
    },
    {
     "data": {
      "image/png": "[encoded data removed]",
      "text/plain": [
       "<Figure size 432x288 with 1 Axes>"
      ]
     },
     "metadata": {
      "needs_background": "light"
     },
     "output_type": "display_data"
    }
   ],
   "source": [
    "sns.countplot(data['winner'][data['eliminator']=='Y'],data=data)\n",
    "plt.title(\"Most wins in Eliminator\",fontsize=17)\n",
    "plt.xticks(rotation=90)\n",
    "plt.show()"
   ]
  },
  {
   "cell_type": "markdown",
   "id": "6d64d8d9",
   "metadata": {
    "papermill": {
     "duration": 0.043356,
     "end_time": "2021-07-13T17:26:00.442581",
     "exception": false,
     "start_time": "2021-07-13T17:26:00.399225",
     "status": "completed"
    },
    "tags": []
   },
   "source": [
    "# Toss Decision"
   ]
  },
  {
   "cell_type": "code",
   "execution_count": 12,
   "id": "c64c760c",
   "metadata": {
    "execution": {
     "iopub.execute_input": "2021-07-13T17:26:00.551740Z",
     "iopub.status.busy": "2021-07-13T17:26:00.550979Z",
     "iopub.status.idle": "2021-07-13T17:26:00.562026Z",
     "shell.execute_reply": "2021-07-13T17:26:00.562815Z",
     "shell.execute_reply.started": "2021-07-11T15:34:43.975888Z"
    },
    "papermill": {
     "duration": 0.077138,
     "end_time": "2021-07-13T17:26:00.563054",
     "exception": false,
     "start_time": "2021-07-13T17:26:00.485916",
     "status": "completed"
    },
    "tags": []
   },
   "outputs": [
    {
     "name": "stdout",
     "output_type": "stream",
     "text": [
      "          id       city        date player_of_match  \\\n",
      "700  1175360      Delhi  2019-03-26       SR Watson   \n",
      "741  1178421      Delhi  2019-04-28        S Dhawan   \n",
      "793  1216529  Abu Dhabi  2020-10-11       Q de Kock   \n",
      "807  1216543      Dubai  2020-10-14        A Nortje   \n",
      "810  1216546      Dubai  2020-10-20        S Dhawan   \n",
      "814  1237180  Abu Dhabi  2020-11-08      MP Stoinis   \n",
      "815  1237181      Dubai  2020-11-10        TA Boult   \n",
      "\n",
      "                                   venue  neutral_venue           team1  \\\n",
      "700                     Feroz Shah Kotla              0  Delhi Capitals   \n",
      "741                     Feroz Shah Kotla              0  Delhi Capitals   \n",
      "793                 Sheikh Zayed Stadium              0  Delhi Capitals   \n",
      "807  Dubai International Cricket Stadium              0  Delhi Capitals   \n",
      "810  Dubai International Cricket Stadium              0  Delhi Capitals   \n",
      "814                 Sheikh Zayed Stadium              0  Delhi Capitals   \n",
      "815  Dubai International Cricket Stadium              0  Delhi Capitals   \n",
      "\n",
      "                           team2     toss_winner toss_decision  \\\n",
      "700          Chennai Super Kings  Delhi Capitals           bat   \n",
      "741  Royal Challengers Bangalore  Delhi Capitals           bat   \n",
      "793               Mumbai Indians  Delhi Capitals           bat   \n",
      "807             Rajasthan Royals  Delhi Capitals           bat   \n",
      "810              Kings XI Punjab  Delhi Capitals           bat   \n",
      "814          Sunrisers Hyderabad  Delhi Capitals           bat   \n",
      "815               Mumbai Indians  Delhi Capitals           bat   \n",
      "\n",
      "                  winner   result  result_margin eliminator  \\\n",
      "700  Chennai Super Kings  wickets            6.0          N   \n",
      "741       Delhi Capitals     runs           16.0          N   \n",
      "793       Mumbai Indians  wickets            5.0          N   \n",
      "807       Delhi Capitals     runs           13.0          N   \n",
      "810      Kings XI Punjab  wickets            5.0          N   \n",
      "814       Delhi Capitals     runs           17.0          N   \n",
      "815       Mumbai Indians  wickets            5.0          N   \n",
      "\n",
      "                   umpire1         umpire2  \n",
      "700              M Erasmus     Nitin Menon  \n",
      "741  KN Ananthapadmanabhan    BNJ Oxenford  \n",
      "793            CB Gaffaney          S Ravi  \n",
      "807           AK Chaudhary     Nitin Menon  \n",
      "810          C Shamshuddin  RK Illingworth  \n",
      "814             PR Reiffel          S Ravi  \n",
      "815            CB Gaffaney     Nitin Menon  \n"
     ]
    }
   ],
   "source": [
    "#Just printing the structure of temp_bat\n",
    "teams=data['toss_winner'].unique()\n",
    "for id,element in enumerate(teams):\n",
    "    temp_bat=data[(data['toss_winner']==element) & (data['toss_decision']=='bat')]\n",
    "print(temp_bat)"
   ]
  },
  {
   "cell_type": "code",
   "execution_count": 13,
   "id": "e0fc5d7f",
   "metadata": {
    "execution": {
     "iopub.execute_input": "2021-07-13T17:26:00.656067Z",
     "iopub.status.busy": "2021-07-13T17:26:00.655401Z",
     "iopub.status.idle": "2021-07-13T17:26:00.788623Z",
     "shell.execute_reply": "2021-07-13T17:26:00.789162Z",
     "shell.execute_reply.started": "2021-07-11T15:34:44.01049Z"
    },
    "papermill": {
     "duration": 0.180041,
     "end_time": "2021-07-13T17:26:00.789335",
     "exception": false,
     "start_time": "2021-07-13T17:26:00.609294",
     "status": "completed"
    },
    "tags": []
   },
   "outputs": [
    {
     "name": "stdout",
     "output_type": "stream",
     "text": [
      "                    Toss Winner Decision Times\n",
      "0   Royal Challengers Bangalore      bat    24\n",
      "1   Royal Challengers Bangalore    field    63\n",
      "2           Chennai Super Kings      bat    51\n",
      "3           Chennai Super Kings    field    46\n",
      "4              Rajasthan Royals      bat    34\n",
      "5              Rajasthan Royals    field    53\n",
      "6                Mumbai Indians      bat    48\n",
      "7                Mumbai Indians    field    58\n",
      "8               Deccan Chargers      bat    24\n",
      "9               Deccan Chargers    field    19\n",
      "10              Kings XI Punjab      bat    27\n",
      "11              Kings XI Punjab    field    58\n",
      "12        Kolkata Knight Riders      bat    34\n",
      "13        Kolkata Knight Riders    field    64\n",
      "14             Delhi Daredevils      bat    29\n",
      "15             Delhi Daredevils    field    51\n",
      "16         Kochi Tuskers Kerala      bat     3\n",
      "17         Kochi Tuskers Kerala    field     5\n",
      "18                Pune Warriors      bat    11\n",
      "19                Pune Warriors    field     9\n",
      "20          Sunrisers Hyderabad      bat    24\n",
      "21          Sunrisers Hyderabad    field    33\n",
      "22                Gujarat Lions      bat     1\n",
      "23                Gujarat Lions    field    14\n",
      "24      Rising Pune Supergiants      bat     3\n",
      "25      Rising Pune Supergiants    field     4\n",
      "26       Rising Pune Supergiant      bat     0\n",
      "27       Rising Pune Supergiant    field     6\n",
      "28               Delhi Capitals      bat     7\n",
      "29               Delhi Capitals    field    13\n"
     ]
    }
   ],
   "source": [
    "teams=data['toss_winner'].unique()\n",
    "decision_making=pd.DataFrame([],columns=['Toss Winner','Decision','Times'])\n",
    "\n",
    "for id,element in enumerate(teams):\n",
    "    temp_bat=data[(data['toss_winner']==element) & (data['toss_decision']=='bat')]\n",
    "    temp_field=data[(data['toss_winner']==element) & (data['toss_decision']=='field')]\n",
    "    \n",
    "    #append it to empty list;\n",
    "    decision_making=decision_making.append({'Toss Winner':element,'Decision':'bat','Times':temp_bat['toss_winner'].count()},ignore_index=True)\n",
    "    decision_making=decision_making.append({'Toss Winner':element,'Decision':'field','Times':temp_field['toss_winner'].count()},ignore_index=True)\n",
    "\n",
    "print(decision_making)"
   ]
  },
  {
   "cell_type": "code",
   "execution_count": 14,
   "id": "c9cd7209",
   "metadata": {
    "execution": {
     "iopub.execute_input": "2021-07-13T17:26:00.882980Z",
     "iopub.status.busy": "2021-07-13T17:26:00.882323Z",
     "iopub.status.idle": "2021-07-13T17:26:01.510126Z",
     "shell.execute_reply": "2021-07-13T17:26:01.509465Z",
     "shell.execute_reply.started": "2021-07-11T15:34:44.168529Z"
    },
    "papermill": {
     "duration": 0.676696,
     "end_time": "2021-07-13T17:26:01.510428",
     "exception": false,
     "start_time": "2021-07-13T17:26:00.833732",
     "status": "completed"
    },
    "tags": []
   },
   "outputs": [
    {
     "data": {
      "image/png": "[encoded data removed]",
      "text/plain": [
       "<Figure size 777.875x360 with 1 Axes>"
      ]
     },
     "metadata": {
      "needs_background": "light"
     },
     "output_type": "display_data"
    }
   ],
   "source": [
    " sns.catplot(x=\"Toss Winner\",y=\"Times\",hue='Decision',data=decision_making,kind='bar',height=5,aspect=2)\n",
    " plt.xticks(rotation=90)\n",
    "plt.title('Toss Decision of teams')\n",
    "plt.xlabel('IPL Teams')\n",
    "plt.ylabel('Toss Decision')\n",
    "plt.show()"
   ]
  },
  {
   "cell_type": "code",
   "execution_count": 15,
   "id": "c6d1abc1",
   "metadata": {
    "execution": {
     "iopub.execute_input": "2021-07-13T17:26:01.751940Z",
     "iopub.status.busy": "2021-07-13T17:26:01.740048Z",
     "iopub.status.idle": "2021-07-13T17:26:01.825774Z",
     "shell.execute_reply": "2021-07-13T17:26:01.825217Z",
     "shell.execute_reply.started": "2021-07-11T16:21:12.956825Z"
    },
    "papermill": {
     "duration": 0.269466,
     "end_time": "2021-07-13T17:26:01.825916",
     "exception": false,
     "start_time": "2021-07-13T17:26:01.556450",
     "status": "completed"
    },
    "tags": []
   },
   "outputs": [
    {
     "data": {
      "image/png": "[encoded data removed]",
      "text/plain": [
       "<Figure size 432x288 with 1 Axes>"
      ]
     },
     "metadata": {},
     "output_type": "display_data"
    }
   ],
   "source": [
    "num_of_wins = (data.result=='runs').sum()\n",
    "num_of_loss = (data.result=='wickets').sum()\n",
    "labels = [\"Wins\", \"Loss\"]\n",
    "total = float(num_of_wins + num_of_loss)\n",
    "sizes = [(num_of_wins/total)*100, (num_of_loss/total)*100]\n",
    "colors = ['lightblue', 'green']\n",
    "plt.pie(sizes, labels=labels, colors=colors,\n",
    "        autopct='%1.1f%%', shadow=True, startangle=90)\n",
    "plt.title(\"Win percentage batting second\")\n",
    "plt.show()"
   ]
  },
  {
   "cell_type": "markdown",
   "id": "97bffde1",
   "metadata": {
    "papermill": {
     "duration": 0.046592,
     "end_time": "2021-07-13T17:26:01.920491",
     "exception": false,
     "start_time": "2021-07-13T17:26:01.873899",
     "status": "completed"
    },
    "tags": []
   },
   "source": [
    "# Famous Venue"
   ]
  },
  {
   "cell_type": "code",
   "execution_count": 16,
   "id": "b5b0a5e2",
   "metadata": {
    "execution": {
     "iopub.execute_input": "2021-07-13T17:26:02.040961Z",
     "iopub.status.busy": "2021-07-13T17:26:02.031498Z",
     "iopub.status.idle": "2021-07-13T17:26:02.223800Z",
     "shell.execute_reply": "2021-07-13T17:26:02.223177Z",
     "shell.execute_reply.started": "2021-07-11T15:34:44.808354Z"
    },
    "papermill": {
     "duration": 0.25794,
     "end_time": "2021-07-13T17:26:02.223933",
     "exception": false,
     "start_time": "2021-07-13T17:26:01.965993",
     "status": "completed"
    },
    "tags": []
   },
   "outputs": [
    {
     "data": {
      "image/png": "[encoded data removed]",
      "text/plain": [
       "<Figure size 432x288 with 1 Axes>"
      ]
     },
     "metadata": {
      "needs_background": "light"
     },
     "output_type": "display_data"
    }
   ],
   "source": [
    "sns.barplot(x=data['venue'].value_counts().head(8).values,y=data['venue'].value_counts().head(8).index,data=data)\n",
    "plt.title(\"Famous Venues of IPL\")\n",
    "plt.xlabel(\"Games played\")\n",
    "plt.ylabel(\"Venue Name\")\n",
    "plt.show()"
   ]
  },
  {
   "cell_type": "markdown",
   "id": "1f1aac49",
   "metadata": {
    "papermill": {
     "duration": 0.04639,
     "end_time": "2021-07-13T17:26:02.317218",
     "exception": false,
     "start_time": "2021-07-13T17:26:02.270828",
     "status": "completed"
    },
    "tags": []
   },
   "source": [
    "**Top 5 Umpires**"
   ]
  },
  {
   "cell_type": "code",
   "execution_count": 17,
   "id": "12707fdd",
   "metadata": {
    "execution": {
     "iopub.execute_input": "2021-07-13T17:26:02.459721Z",
     "iopub.status.busy": "2021-07-13T17:26:02.453092Z",
     "iopub.status.idle": "2021-07-13T17:26:02.587470Z",
     "shell.execute_reply": "2021-07-13T17:26:02.586798Z",
     "shell.execute_reply.started": "2021-07-11T15:34:45.126079Z"
    },
    "papermill": {
     "duration": 0.223604,
     "end_time": "2021-07-13T17:26:02.587612",
     "exception": false,
     "start_time": "2021-07-13T17:26:02.364008",
     "status": "completed"
    },
    "tags": []
   },
   "outputs": [
    {
     "data": {
      "image/png": "[encoded data removed]",
      "text/plain": [
       "<Figure size 432x288 with 1 Axes>"
      ]
     },
     "metadata": {
      "needs_background": "light"
     },
     "output_type": "display_data"
    }
   ],
   "source": [
    "sns.barplot(x=data['umpire1'].value_counts().head().index,y=data['umpire1'].value_counts().head().values,data=data)\n",
    "plt.title(\"Famous Umpires of IPL\")\n",
    "plt.xticks(rotation=35)\n",
    "plt.xlabel(\"Umpire1\")\n",
    "plt.ylabel(\"Match Count\")\n",
    "plt.show()"
   ]
  },
  {
   "cell_type": "code",
   "execution_count": 18,
   "id": "cec31a2b",
   "metadata": {
    "execution": {
     "iopub.execute_input": "2021-07-13T17:26:02.717802Z",
     "iopub.status.busy": "2021-07-13T17:26:02.714646Z",
     "iopub.status.idle": "2021-07-13T17:26:02.853878Z",
     "shell.execute_reply": "2021-07-13T17:26:02.852768Z",
     "shell.execute_reply.started": "2021-07-11T15:34:45.296808Z"
    },
    "papermill": {
     "duration": 0.218137,
     "end_time": "2021-07-13T17:26:02.854046",
     "exception": false,
     "start_time": "2021-07-13T17:26:02.635909",
     "status": "completed"
    },
    "tags": []
   },
   "outputs": [
    {
     "data": {
      "image/png": "[encoded data removed]",
      "text/plain": [
       "<Figure size 432x288 with 1 Axes>"
      ]
     },
     "metadata": {
      "needs_background": "light"
     },
     "output_type": "display_data"
    }
   ],
   "source": [
    "sns.barplot(x=data['umpire2'].value_counts().head().values,y=data['umpire2'].value_counts().head().index,data=data)\n",
    "plt.title(\"Famous Umpires of IPL\")\n",
    "plt.xticks(rotation=90)\n",
    "plt.xlabel(\"Match Count\")\n",
    "plt.ylabel(\"Umpire2\")\n",
    "plt.show()"
   ]
  },
  {
   "cell_type": "markdown",
   "id": "fd6405f3",
   "metadata": {
    "papermill": {
     "duration": 0.048571,
     "end_time": "2021-07-13T17:26:02.954291",
     "exception": false,
     "start_time": "2021-07-13T17:26:02.905720",
     "status": "completed"
    },
    "tags": []
   },
   "source": [
    "**Most MoM Awards**"
   ]
  },
  {
   "cell_type": "code",
   "execution_count": 19,
   "id": "21872efe",
   "metadata": {
    "execution": {
     "iopub.execute_input": "2021-07-13T17:26:03.096344Z",
     "iopub.status.busy": "2021-07-13T17:26:03.063157Z",
     "iopub.status.idle": "2021-07-13T17:26:03.203080Z",
     "shell.execute_reply": "2021-07-13T17:26:03.202429Z",
     "shell.execute_reply.started": "2021-07-11T17:57:36.414762Z"
    },
    "papermill": {
     "duration": 0.199055,
     "end_time": "2021-07-13T17:26:03.203244",
     "exception": false,
     "start_time": "2021-07-13T17:26:03.004189",
     "status": "completed"
    },
    "tags": []
   },
   "outputs": [
    {
     "name": "stdout",
     "output_type": "stream",
     "text": [
      "AB de Villiers    23\n",
      "CH Gayle          22\n",
      "RG Sharma         18\n",
      "DA Warner         17\n",
      "MS Dhoni          17\n",
      "Name: player_of_match, dtype: int64\n"
     ]
    },
    {
     "data": {
      "image/png": "[encoded data removed]",
      "text/plain": [
       "<Figure size 432x288 with 1 Axes>"
      ]
     },
     "metadata": {
      "needs_background": "light"
     },
     "output_type": "display_data"
    }
   ],
   "source": [
    "temp_data=data['player_of_match'].value_counts().head()\n",
    "print(temp_data)\n",
    "#sns.barplot(x=data['player_of_match'].value_counts().head().index,y=data['player_of_match'].value_counts().head().values,data=data)\n",
    "sns.barplot(x=temp_data.index,y=temp_data.values,data=data)\n",
    "\n",
    "plt.title(\"Top 5 MoM\")\n",
    "plt.xticks(rotation=90)\n",
    "plt.xlabel(\"Match Count\")\n",
    "plt.ylabel(\"Player\")\n",
    "plt.show()"
   ]
  },
  {
   "cell_type": "markdown",
   "id": "50bd71a5",
   "metadata": {
    "papermill": {
     "duration": 0.050492,
     "end_time": "2021-07-13T17:26:03.305261",
     "exception": false,
     "start_time": "2021-07-13T17:26:03.254769",
     "status": "completed"
    },
    "tags": []
   },
   "source": [
    "**Team winning the toss as well as match**"
   ]
  },
  {
   "cell_type": "code",
   "execution_count": 20,
   "id": "f0e035da",
   "metadata": {
    "execution": {
     "iopub.execute_input": "2021-07-13T17:26:03.416215Z",
     "iopub.status.busy": "2021-07-13T17:26:03.415527Z",
     "iopub.status.idle": "2021-07-13T17:26:03.438081Z",
     "shell.execute_reply": "2021-07-13T17:26:03.437509Z",
     "shell.execute_reply.started": "2021-07-11T16:01:29.067581Z"
    },
    "papermill": {
     "duration": 0.082813,
     "end_time": "2021-07-13T17:26:03.438266",
     "exception": false,
     "start_time": "2021-07-13T17:26:03.355453",
     "status": "completed"
    },
    "tags": []
   },
   "outputs": [
    {
     "data": {
      "text/plain": [
       "False    48.77\n",
       "True     51.23\n",
       "dtype: float64"
      ]
     },
     "execution_count": 20,
     "metadata": {},
     "output_type": "execute_result"
    }
   ],
   "source": [
    "# count=0\n",
    "# for index,row in data.iterrows():\n",
    "#     if(row[\"toss_winner\"]== row[\"winner\"]):\n",
    "#         count=count+1\n",
    "# print(\"Team winning the toss as well as match: \")\n",
    "# print(count)\n",
    "\n",
    "percent = data['toss_winner'] == data['winner']\n",
    "\n",
    "percent.groupby(percent).size()\n",
    "round(percent.groupby(percent).size() / percent.count() * 100,2)"
   ]
  },
  {
   "cell_type": "code",
   "execution_count": 21,
   "id": "03ffec41",
   "metadata": {
    "execution": {
     "iopub.execute_input": "2021-07-13T17:26:03.542520Z",
     "iopub.status.busy": "2021-07-13T17:26:03.541838Z",
     "iopub.status.idle": "2021-07-13T17:26:03.677086Z",
     "shell.execute_reply": "2021-07-13T17:26:03.677604Z",
     "shell.execute_reply.started": "2021-07-11T16:01:39.928954Z"
    },
    "papermill": {
     "duration": 0.189176,
     "end_time": "2021-07-13T17:26:03.677811",
     "exception": false,
     "start_time": "2021-07-13T17:26:03.488635",
     "status": "completed"
    },
    "tags": []
   },
   "outputs": [
    {
     "name": "stderr",
     "output_type": "stream",
     "text": [
      "/opt/conda/lib/python3.7/site-packages/seaborn/_decorators.py:43: FutureWarning: Pass the following variable as a keyword arg: x. From version 0.12, the only valid positional argument will be `data`, and passing other arguments without an explicit keyword will result in an error or misinterpretation.\n",
      "  FutureWarning\n"
     ]
    },
    {
     "data": {
      "text/plain": [
       "<AxesSubplot:ylabel='count'>"
      ]
     },
     "execution_count": 21,
     "metadata": {},
     "output_type": "execute_result"
    },
    {
     "data": {
      "image/png": "[encoded data removed]",
      "text/plain": [
       "<Figure size 432x288 with 1 Axes>"
      ]
     },
     "metadata": {
      "needs_background": "light"
     },
     "output_type": "display_data"
    }
   ],
   "source": [
    "sns.countplot(percent)"
   ]
  },
  {
   "cell_type": "markdown",
   "id": "f01e667f",
   "metadata": {
    "papermill": {
     "duration": 0.052736,
     "end_time": "2021-07-13T17:26:03.782495",
     "exception": false,
     "start_time": "2021-07-13T17:26:03.729759",
     "status": "completed"
    },
    "tags": []
   },
   "source": [
    "Thus winning the toss doesn't have any significant impact on winning the game"
   ]
  },
  {
   "cell_type": "markdown",
   "id": "554c3c04",
   "metadata": {
    "papermill": {
     "duration": 0.051829,
     "end_time": "2021-07-13T17:26:03.886621",
     "exception": false,
     "start_time": "2021-07-13T17:26:03.834792",
     "status": "completed"
    },
    "tags": []
   },
   "source": [
    "# **Second Dataset:IPL Ball-by-Ball 2008-2020**"
   ]
  },
  {
   "cell_type": "code",
   "execution_count": 22,
   "id": "3c4f2143",
   "metadata": {
    "execution": {
     "iopub.execute_input": "2021-07-13T17:26:03.998807Z",
     "iopub.status.busy": "2021-07-13T17:26:03.998063Z",
     "iopub.status.idle": "2021-07-13T17:26:04.853939Z",
     "shell.execute_reply": "2021-07-13T17:26:04.853277Z",
     "shell.execute_reply.started": "2021-07-11T18:53:03.467135Z"
    },
    "papermill": {
     "duration": 0.911254,
     "end_time": "2021-07-13T17:26:04.854077",
     "exception": false,
     "start_time": "2021-07-13T17:26:03.942823",
     "status": "completed"
    },
    "tags": []
   },
   "outputs": [
    {
     "data": {
      "text/html": [
       "<div>\n",
       "<style scoped>\n",
       "    .dataframe tbody tr th:only-of-type {\n",
       "        vertical-align: middle;\n",
       "    }\n",
       "\n",
       "    .dataframe tbody tr th {\n",
       "        vertical-align: top;\n",
       "    }\n",
       "\n",
       "    .dataframe thead th {\n",
       "        text-align: right;\n",
       "    }\n",
       "</style>\n",
       "<table border=\"1\" class=\"dataframe\">\n",
       "  <thead>\n",
       "    <tr style=\"text-align: right;\">\n",
       "      <th></th>\n",
       "      <th>id</th>\n",
       "      <th>inning</th>\n",
       "      <th>over</th>\n",
       "      <th>ball</th>\n",
       "      <th>batsman</th>\n",
       "      <th>non_striker</th>\n",
       "      <th>bowler</th>\n",
       "      <th>batsman_runs</th>\n",
       "      <th>extra_runs</th>\n",
       "      <th>total_runs</th>\n",
       "      <th>non_boundary</th>\n",
       "      <th>is_wicket</th>\n",
       "      <th>dismissal_kind</th>\n",
       "      <th>player_dismissed</th>\n",
       "      <th>fielder</th>\n",
       "      <th>extras_type</th>\n",
       "      <th>batting_team</th>\n",
       "      <th>bowling_team</th>\n",
       "    </tr>\n",
       "  </thead>\n",
       "  <tbody>\n",
       "    <tr>\n",
       "      <th>0</th>\n",
       "      <td>335982</td>\n",
       "      <td>1</td>\n",
       "      <td>6</td>\n",
       "      <td>5</td>\n",
       "      <td>RT Ponting</td>\n",
       "      <td>BB McCullum</td>\n",
       "      <td>AA Noffke</td>\n",
       "      <td>1</td>\n",
       "      <td>0</td>\n",
       "      <td>1</td>\n",
       "      <td>0</td>\n",
       "      <td>0</td>\n",
       "      <td>NaN</td>\n",
       "      <td>NaN</td>\n",
       "      <td>NaN</td>\n",
       "      <td>NaN</td>\n",
       "      <td>Kolkata Knight Riders</td>\n",
       "      <td>Royal Challengers Bangalore</td>\n",
       "    </tr>\n",
       "    <tr>\n",
       "      <th>1</th>\n",
       "      <td>335982</td>\n",
       "      <td>1</td>\n",
       "      <td>6</td>\n",
       "      <td>6</td>\n",
       "      <td>BB McCullum</td>\n",
       "      <td>RT Ponting</td>\n",
       "      <td>AA Noffke</td>\n",
       "      <td>1</td>\n",
       "      <td>0</td>\n",
       "      <td>1</td>\n",
       "      <td>0</td>\n",
       "      <td>0</td>\n",
       "      <td>NaN</td>\n",
       "      <td>NaN</td>\n",
       "      <td>NaN</td>\n",
       "      <td>NaN</td>\n",
       "      <td>Kolkata Knight Riders</td>\n",
       "      <td>Royal Challengers Bangalore</td>\n",
       "    </tr>\n",
       "    <tr>\n",
       "      <th>2</th>\n",
       "      <td>335982</td>\n",
       "      <td>1</td>\n",
       "      <td>7</td>\n",
       "      <td>1</td>\n",
       "      <td>BB McCullum</td>\n",
       "      <td>RT Ponting</td>\n",
       "      <td>Z Khan</td>\n",
       "      <td>0</td>\n",
       "      <td>0</td>\n",
       "      <td>0</td>\n",
       "      <td>0</td>\n",
       "      <td>0</td>\n",
       "      <td>NaN</td>\n",
       "      <td>NaN</td>\n",
       "      <td>NaN</td>\n",
       "      <td>NaN</td>\n",
       "      <td>Kolkata Knight Riders</td>\n",
       "      <td>Royal Challengers Bangalore</td>\n",
       "    </tr>\n",
       "    <tr>\n",
       "      <th>3</th>\n",
       "      <td>335982</td>\n",
       "      <td>1</td>\n",
       "      <td>7</td>\n",
       "      <td>2</td>\n",
       "      <td>BB McCullum</td>\n",
       "      <td>RT Ponting</td>\n",
       "      <td>Z Khan</td>\n",
       "      <td>1</td>\n",
       "      <td>0</td>\n",
       "      <td>1</td>\n",
       "      <td>0</td>\n",
       "      <td>0</td>\n",
       "      <td>NaN</td>\n",
       "      <td>NaN</td>\n",
       "      <td>NaN</td>\n",
       "      <td>NaN</td>\n",
       "      <td>Kolkata Knight Riders</td>\n",
       "      <td>Royal Challengers Bangalore</td>\n",
       "    </tr>\n",
       "    <tr>\n",
       "      <th>4</th>\n",
       "      <td>335982</td>\n",
       "      <td>1</td>\n",
       "      <td>7</td>\n",
       "      <td>3</td>\n",
       "      <td>RT Ponting</td>\n",
       "      <td>BB McCullum</td>\n",
       "      <td>Z Khan</td>\n",
       "      <td>1</td>\n",
       "      <td>0</td>\n",
       "      <td>1</td>\n",
       "      <td>0</td>\n",
       "      <td>0</td>\n",
       "      <td>NaN</td>\n",
       "      <td>NaN</td>\n",
       "      <td>NaN</td>\n",
       "      <td>NaN</td>\n",
       "      <td>Kolkata Knight Riders</td>\n",
       "      <td>Royal Challengers Bangalore</td>\n",
       "    </tr>\n",
       "  </tbody>\n",
       "</table>\n",
       "</div>"
      ],
      "text/plain": [
       "       id  inning  over  ball      batsman  non_striker     bowler  \\\n",
       "0  335982       1     6     5   RT Ponting  BB McCullum  AA Noffke   \n",
       "1  335982       1     6     6  BB McCullum   RT Ponting  AA Noffke   \n",
       "2  335982       1     7     1  BB McCullum   RT Ponting     Z Khan   \n",
       "3  335982       1     7     2  BB McCullum   RT Ponting     Z Khan   \n",
       "4  335982       1     7     3   RT Ponting  BB McCullum     Z Khan   \n",
       "\n",
       "   batsman_runs  extra_runs  total_runs  non_boundary  is_wicket  \\\n",
       "0             1           0           1             0          0   \n",
       "1             1           0           1             0          0   \n",
       "2             0           0           0             0          0   \n",
       "3             1           0           1             0          0   \n",
       "4             1           0           1             0          0   \n",
       "\n",
       "  dismissal_kind player_dismissed fielder extras_type           batting_team  \\\n",
       "0            NaN              NaN     NaN         NaN  Kolkata Knight Riders   \n",
       "1            NaN              NaN     NaN         NaN  Kolkata Knight Riders   \n",
       "2            NaN              NaN     NaN         NaN  Kolkata Knight Riders   \n",
       "3            NaN              NaN     NaN         NaN  Kolkata Knight Riders   \n",
       "4            NaN              NaN     NaN         NaN  Kolkata Knight Riders   \n",
       "\n",
       "                  bowling_team  \n",
       "0  Royal Challengers Bangalore  \n",
       "1  Royal Challengers Bangalore  \n",
       "2  Royal Challengers Bangalore  \n",
       "3  Royal Challengers Bangalore  \n",
       "4  Royal Challengers Bangalore  "
      ]
     },
     "execution_count": 22,
     "metadata": {},
     "output_type": "execute_result"
    }
   ],
   "source": [
    "dataset=pd.read_csv(\"/kaggle/input/ipl-complete-dataset-20082020/IPL Ball-by-Ball 2008-2020.csv\")\n",
    "dataset.head()"
   ]
  },
  {
   "cell_type": "code",
   "execution_count": 23,
   "id": "a0c1d969",
   "metadata": {
    "execution": {
     "iopub.execute_input": "2021-07-13T17:26:05.092193Z",
     "iopub.status.busy": "2021-07-13T17:26:05.091496Z",
     "iopub.status.idle": "2021-07-13T17:26:05.110066Z",
     "shell.execute_reply": "2021-07-13T17:26:05.111243Z",
     "shell.execute_reply.started": "2021-07-11T15:34:46.361934Z"
    },
    "papermill": {
     "duration": 0.204824,
     "end_time": "2021-07-13T17:26:05.111505",
     "exception": false,
     "start_time": "2021-07-13T17:26:04.906681",
     "status": "completed"
    },
    "tags": []
   },
   "outputs": [
    {
     "name": "stdout",
     "output_type": "stream",
     "text": [
      "<class 'pandas.core.frame.DataFrame'>\n",
      "RangeIndex: 193468 entries, 0 to 193467\n",
      "Data columns (total 18 columns):\n",
      " #   Column            Non-Null Count   Dtype \n",
      "---  ------            --------------   ----- \n",
      " 0   id                193468 non-null  int64 \n",
      " 1   inning            193468 non-null  int64 \n",
      " 2   over              193468 non-null  int64 \n",
      " 3   ball              193468 non-null  int64 \n",
      " 4   batsman           193468 non-null  object\n",
      " 5   non_striker       193468 non-null  object\n",
      " 6   bowler            193468 non-null  object\n",
      " 7   batsman_runs      193468 non-null  int64 \n",
      " 8   extra_runs        193468 non-null  int64 \n",
      " 9   total_runs        193468 non-null  int64 \n",
      " 10  non_boundary      193468 non-null  int64 \n",
      " 11  is_wicket         193468 non-null  int64 \n",
      " 12  dismissal_kind    9495 non-null    object\n",
      " 13  player_dismissed  9495 non-null    object\n",
      " 14  fielder           6784 non-null    object\n",
      " 15  extras_type       10233 non-null   object\n",
      " 16  batting_team      193468 non-null  object\n",
      " 17  bowling_team      193277 non-null  object\n",
      "dtypes: int64(9), object(9)\n",
      "memory usage: 26.6+ MB\n"
     ]
    }
   ],
   "source": [
    "dataset.info()"
   ]
  },
  {
   "cell_type": "markdown",
   "id": "676cccf1",
   "metadata": {
    "papermill": {
     "duration": 0.052525,
     "end_time": "2021-07-13T17:26:05.216579",
     "exception": false,
     "start_time": "2021-07-13T17:26:05.164054",
     "status": "completed"
    },
    "tags": []
   },
   "source": [
    "**Total IPL capped players till 2020**"
   ]
  },
  {
   "cell_type": "code",
   "execution_count": 24,
   "id": "5f3505d2",
   "metadata": {
    "execution": {
     "iopub.execute_input": "2021-07-13T17:26:05.337224Z",
     "iopub.status.busy": "2021-07-13T17:26:05.336255Z",
     "iopub.status.idle": "2021-07-13T17:26:05.346999Z",
     "shell.execute_reply": "2021-07-13T17:26:05.347544Z",
     "shell.execute_reply.started": "2021-07-11T15:34:46.511855Z"
    },
    "papermill": {
     "duration": 0.07872,
     "end_time": "2021-07-13T17:26:05.347729",
     "exception": false,
     "start_time": "2021-07-13T17:26:05.269009",
     "status": "completed"
    },
    "tags": []
   },
   "outputs": [
    {
     "data": {
      "text/plain": [
       "537"
      ]
     },
     "execution_count": 24,
     "metadata": {},
     "output_type": "execute_result"
    }
   ],
   "source": [
    "total_player=dataset['batsman'].unique()\n",
    "len(total_player)"
   ]
  },
  {
   "cell_type": "markdown",
   "id": "8ef9a594",
   "metadata": {
    "papermill": {
     "duration": 0.05307,
     "end_time": "2021-07-13T17:26:05.454006",
     "exception": false,
     "start_time": "2021-07-13T17:26:05.400936",
     "status": "completed"
    },
    "tags": []
   },
   "source": [
    "# Batting Analysis"
   ]
  },
  {
   "cell_type": "markdown",
   "id": "dbb0e568",
   "metadata": {
    "papermill": {
     "duration": 0.052393,
     "end_time": "2021-07-13T17:26:05.559887",
     "exception": false,
     "start_time": "2021-07-13T17:26:05.507494",
     "status": "completed"
    },
    "tags": []
   },
   "source": [
    "**Top 10 run-scorer**"
   ]
  },
  {
   "cell_type": "code",
   "execution_count": 25,
   "id": "1aefea56",
   "metadata": {
    "execution": {
     "iopub.execute_input": "2021-07-13T17:26:05.675302Z",
     "iopub.status.busy": "2021-07-13T17:26:05.671769Z",
     "iopub.status.idle": "2021-07-13T17:26:05.890533Z",
     "shell.execute_reply": "2021-07-13T17:26:05.891046Z",
     "shell.execute_reply.started": "2021-07-11T18:17:23.386203Z"
    },
    "papermill": {
     "duration": 0.278489,
     "end_time": "2021-07-13T17:26:05.891258",
     "exception": false,
     "start_time": "2021-07-13T17:26:05.612769",
     "status": "completed"
    },
    "tags": []
   },
   "outputs": [
    {
     "data": {
      "image/png": "[encoded data removed]",
      "text/plain": [
       "<Figure size 432x288 with 1 Axes>"
      ]
     },
     "metadata": {
      "needs_background": "light"
     },
     "output_type": "display_data"
    }
   ],
   "source": [
    "#sns.barplot(x=data['player_of_match'].value_counts().head().index,y=data['player_of_match'].value_counts().head().values,data=data)\n",
    "temp_df = dataset.groupby('batsman')['batsman_runs'].agg('sum').reset_index().sort_values(by='batsman_runs', ascending=False).head(10).reset_index(drop=True)\n",
    "sns.barplot(x=temp_df['batsman'],y=temp_df['batsman_runs'],data=temp_df)\n",
    "\n",
    "plt.title(\"Top 10 Scorer\")\n",
    "plt.xticks(rotation=90)\n",
    "plt.xlabel(\"Batsman\")\n",
    "plt.ylabel(\"Runs\")\n",
    "plt.show()"
   ]
  },
  {
   "cell_type": "markdown",
   "id": "81ee8153",
   "metadata": {
    "papermill": {
     "duration": 0.054946,
     "end_time": "2021-07-13T17:26:06.000670",
     "exception": false,
     "start_time": "2021-07-13T17:26:05.945724",
     "status": "completed"
    },
    "tags": []
   },
   "source": [
    "**Most number of boundaries**"
   ]
  },
  {
   "cell_type": "code",
   "execution_count": 26,
   "id": "028b90de",
   "metadata": {
    "execution": {
     "iopub.execute_input": "2021-07-13T17:26:06.120082Z",
     "iopub.status.busy": "2021-07-13T17:26:06.119399Z",
     "iopub.status.idle": "2021-07-13T17:26:06.474258Z",
     "shell.execute_reply": "2021-07-13T17:26:06.474767Z",
     "shell.execute_reply.started": "2021-07-11T18:35:56.727839Z"
    },
    "papermill": {
     "duration": 0.420411,
     "end_time": "2021-07-13T17:26:06.474937",
     "exception": false,
     "start_time": "2021-07-13T17:26:06.054526",
     "status": "completed"
    },
    "tags": []
   },
   "outputs": [
    {
     "data": {
      "image/png": "[encoded data removed]",
      "text/plain": [
       "<Figure size 432x288 with 1 Axes>"
      ]
     },
     "metadata": {
      "needs_background": "light"
     },
     "output_type": "display_data"
    }
   ],
   "source": [
    "temp_df = dataset.groupby('batsman')['batsman_runs'].agg(lambda x:(x==4).sum()).reset_index().sort_values(by='batsman_runs', ascending=False).head(10).reset_index(drop=True)\n",
    "temp_df\n",
    "sns.barplot(x=temp_df['batsman'],y=temp_df['batsman_runs'],data=temp_df)\n",
    "\n",
    "plt.title(\"Most boundaries\")\n",
    "plt.xticks(rotation=90)\n",
    "plt.xlabel(\"Batsman\")\n",
    "plt.ylabel(\"Number of boundaries\")\n",
    "plt.show()"
   ]
  },
  {
   "cell_type": "markdown",
   "id": "16a26172",
   "metadata": {
    "papermill": {
     "duration": 0.06283,
     "end_time": "2021-07-13T17:26:06.592410",
     "exception": false,
     "start_time": "2021-07-13T17:26:06.529580",
     "status": "completed"
    },
    "tags": []
   },
   "source": [
    "**Most number of 6's**"
   ]
  },
  {
   "cell_type": "code",
   "execution_count": 27,
   "id": "763c188a",
   "metadata": {
    "execution": {
     "iopub.execute_input": "2021-07-13T17:26:06.704284Z",
     "iopub.status.busy": "2021-07-13T17:26:06.703582Z",
     "iopub.status.idle": "2021-07-13T17:26:07.074130Z",
     "shell.execute_reply": "2021-07-13T17:26:07.074652Z",
     "shell.execute_reply.started": "2021-07-11T18:36:02.336479Z"
    },
    "papermill": {
     "duration": 0.428047,
     "end_time": "2021-07-13T17:26:07.074841",
     "exception": false,
     "start_time": "2021-07-13T17:26:06.646794",
     "status": "completed"
    },
    "tags": []
   },
   "outputs": [
    {
     "data": {
      "image/png": "[encoded data removed]",
      "text/plain": [
       "<Figure size 432x288 with 1 Axes>"
      ]
     },
     "metadata": {
      "needs_background": "light"
     },
     "output_type": "display_data"
    }
   ],
   "source": [
    "temp_df = dataset.groupby('batsman')['batsman_runs'].agg(lambda x:(x==6).sum()).reset_index().sort_values(by='batsman_runs', ascending=False).head(10).reset_index(drop=True)\n",
    "temp_df\n",
    "sns.barplot(x=temp_df['batsman'],y=temp_df['batsman_runs'],data=temp_df)\n",
    "\n",
    "plt.title(\"Most sixes\")\n",
    "plt.xticks(rotation=90)\n",
    "plt.xlabel(\"Batsman\")\n",
    "plt.ylabel(\"Number of 6's\")\n",
    "plt.show()"
   ]
  },
  {
   "cell_type": "markdown",
   "id": "dc4396f5",
   "metadata": {
    "papermill": {
     "duration": 0.055154,
     "end_time": "2021-07-13T17:26:07.187081",
     "exception": false,
     "start_time": "2021-07-13T17:26:07.131927",
     "status": "completed"
    },
    "tags": []
   },
   "source": [
    "**Most number of dots**"
   ]
  },
  {
   "cell_type": "code",
   "execution_count": 28,
   "id": "5bcec006",
   "metadata": {
    "execution": {
     "iopub.execute_input": "2021-07-13T17:26:07.308662Z",
     "iopub.status.busy": "2021-07-13T17:26:07.307716Z",
     "iopub.status.idle": "2021-07-13T17:26:07.664944Z",
     "shell.execute_reply": "2021-07-13T17:26:07.664321Z",
     "shell.execute_reply.started": "2021-07-11T18:37:04.982228Z"
    },
    "papermill": {
     "duration": 0.422285,
     "end_time": "2021-07-13T17:26:07.665080",
     "exception": false,
     "start_time": "2021-07-13T17:26:07.242795",
     "status": "completed"
    },
    "tags": []
   },
   "outputs": [
    {
     "data": {
      "image/png": "[encoded data removed]",
      "text/plain": [
       "<Figure size 432x288 with 1 Axes>"
      ]
     },
     "metadata": {
      "needs_background": "light"
     },
     "output_type": "display_data"
    }
   ],
   "source": [
    "temp_df = dataset.groupby('batsman')['batsman_runs'].agg(lambda x:(x==0).sum()).reset_index().sort_values(by='batsman_runs', ascending=False).head(10).reset_index(drop=True)\n",
    "temp_df\n",
    "sns.barplot(x=temp_df['batsman'],y=temp_df['batsman_runs'],data=temp_df)\n",
    "\n",
    "plt.title(\"Most Dots\")\n",
    "plt.xticks(rotation=90)\n",
    "plt.xlabel(\"Batsman\")\n",
    "plt.ylabel(\"Number of 0's\")\n",
    "plt.show()"
   ]
  },
  {
   "cell_type": "markdown",
   "id": "57e2a9b0",
   "metadata": {
    "papermill": {
     "duration": 0.056555,
     "end_time": "2021-07-13T17:26:07.777907",
     "exception": false,
     "start_time": "2021-07-13T17:26:07.721352",
     "status": "completed"
    },
    "tags": []
   },
   "source": [
    "# Bowling Analysis"
   ]
  },
  {
   "cell_type": "markdown",
   "id": "ed992ed7",
   "metadata": {
    "papermill": {
     "duration": 0.05624,
     "end_time": "2021-07-13T17:26:07.890338",
     "exception": false,
     "start_time": "2021-07-13T17:26:07.834098",
     "status": "completed"
    },
    "tags": []
   },
   "source": [
    "**Most bowls bowed by a bowler**"
   ]
  },
  {
   "cell_type": "code",
   "execution_count": 29,
   "id": "d6c6958c",
   "metadata": {
    "execution": {
     "iopub.execute_input": "2021-07-13T17:26:08.015749Z",
     "iopub.status.busy": "2021-07-13T17:26:08.014802Z",
     "iopub.status.idle": "2021-07-13T17:26:08.237793Z",
     "shell.execute_reply": "2021-07-13T17:26:08.237153Z",
     "shell.execute_reply.started": "2021-07-11T18:46:59.366006Z"
    },
    "papermill": {
     "duration": 0.290242,
     "end_time": "2021-07-13T17:26:08.237942",
     "exception": false,
     "start_time": "2021-07-13T17:26:07.947700",
     "status": "completed"
    },
    "tags": []
   },
   "outputs": [
    {
     "data": {
      "image/png": "[encoded data removed]",
      "text/plain": [
       "<Figure size 432x288 with 1 Axes>"
      ]
     },
     "metadata": {
      "needs_background": "light"
     },
     "output_type": "display_data"
    }
   ],
   "source": [
    "temp_df = dataset.groupby('bowler')['ball'].agg('count').reset_index().sort_values(by='ball', ascending=False).reset_index(drop=True).head(10)\n",
    "sns.barplot(x=temp_df['bowler'],y=temp_df['ball'],data=temp_df)\n",
    "\n",
    "plt.title(\"Most bowls bowled by a bowler\")\n",
    "plt.xticks(rotation=90)\n",
    "plt.xlabel(\"Bowler\")\n",
    "plt.ylabel(\"Number of balls\")\n",
    "plt.show()"
   ]
  },
  {
   "cell_type": "code",
   "execution_count": 30,
   "id": "c1c04b6d",
   "metadata": {
    "execution": {
     "iopub.execute_input": "2021-07-13T17:26:08.362991Z",
     "iopub.status.busy": "2021-07-13T17:26:08.362041Z",
     "iopub.status.idle": "2021-07-13T17:26:08.690654Z",
     "shell.execute_reply": "2021-07-13T17:26:08.690090Z",
     "shell.execute_reply.started": "2021-07-11T18:46:44.779827Z"
    },
    "papermill": {
     "duration": 0.395307,
     "end_time": "2021-07-13T17:26:08.690805",
     "exception": false,
     "start_time": "2021-07-13T17:26:08.295498",
     "status": "completed"
    },
    "tags": []
   },
   "outputs": [
    {
     "data": {
      "image/png": "[encoded data removed]",
      "text/plain": [
       "<Figure size 432x288 with 1 Axes>"
      ]
     },
     "metadata": {
      "needs_background": "light"
     },
     "output_type": "display_data"
    }
   ],
   "source": [
    "temp_df = dataset.groupby('bowler')['total_runs'].agg(lambda x: (x==0).sum()).reset_index().sort_values(by='total_runs', ascending=False).reset_index(drop=True).head(10)\n",
    "sns.barplot(x=temp_df['bowler'],y=temp_df['total_runs'],data=temp_df)\n",
    "\n",
    "plt.title(\"Most dots bowled by a bowler\")\n",
    "plt.xticks(rotation=90)\n",
    "plt.xlabel(\"Bowler\")\n",
    "plt.ylabel(\"Number of balls\")\n",
    "plt.show()"
   ]
  },
  {
   "cell_type": "markdown",
   "id": "65351818",
   "metadata": {
    "papermill": {
     "duration": 0.057605,
     "end_time": "2021-07-13T17:26:08.807653",
     "exception": false,
     "start_time": "2021-07-13T17:26:08.750048",
     "status": "completed"
    },
    "tags": []
   },
   "source": [
    "**Most extra runs by a bowler**"
   ]
  },
  {
   "cell_type": "code",
   "execution_count": 31,
   "id": "4abc5483",
   "metadata": {
    "execution": {
     "iopub.execute_input": "2021-07-13T17:26:08.935456Z",
     "iopub.status.busy": "2021-07-13T17:26:08.934519Z",
     "iopub.status.idle": "2021-07-13T17:26:09.259918Z",
     "shell.execute_reply": "2021-07-13T17:26:09.259388Z",
     "shell.execute_reply.started": "2021-07-11T18:51:33.368132Z"
    },
    "papermill": {
     "duration": 0.394184,
     "end_time": "2021-07-13T17:26:09.260067",
     "exception": false,
     "start_time": "2021-07-13T17:26:08.865883",
     "status": "completed"
    },
    "tags": []
   },
   "outputs": [
    {
     "data": {
      "image/png": "[encoded data removed]",
      "text/plain": [
       "<Figure size 432x288 with 1 Axes>"
      ]
     },
     "metadata": {
      "needs_background": "light"
     },
     "output_type": "display_data"
    }
   ],
   "source": [
    "temp_df = dataset.groupby('bowler')['extra_runs'].agg(lambda x: (x>0).sum()).reset_index().sort_values(by='extra_runs', ascending=False).reset_index(drop=True).head(10)\n",
    "sns.barplot(x=temp_df['bowler'],y=temp_df['extra_runs'],data=temp_df)\n",
    "\n",
    "plt.title(\"Most extras bowled by a bowler\")\n",
    "plt.xticks(rotation=90)\n",
    "plt.xlabel(\"Bowler\")\n",
    "plt.ylabel(\"Number of extra runs conceeded\")\n",
    "plt.show()"
   ]
  },
  {
   "cell_type": "markdown",
   "id": "45b5bd21",
   "metadata": {
    "papermill": {
     "duration": 0.059129,
     "end_time": "2021-07-13T17:26:09.378897",
     "exception": false,
     "start_time": "2021-07-13T17:26:09.319768",
     "status": "completed"
    },
    "tags": []
   },
   "source": [
    "**Most wicket-taker**"
   ]
  },
  {
   "cell_type": "code",
   "execution_count": 32,
   "id": "612d433c",
   "metadata": {
    "execution": {
     "iopub.execute_input": "2021-07-13T17:26:09.517333Z",
     "iopub.status.busy": "2021-07-13T17:26:09.508996Z",
     "iopub.status.idle": "2021-07-13T17:26:09.762691Z",
     "shell.execute_reply": "2021-07-13T17:26:09.762179Z",
     "shell.execute_reply.started": "2021-07-11T18:54:07.814264Z"
    },
    "papermill": {
     "duration": 0.324254,
     "end_time": "2021-07-13T17:26:09.762842",
     "exception": false,
     "start_time": "2021-07-13T17:26:09.438588",
     "status": "completed"
    },
    "tags": []
   },
   "outputs": [
    {
     "data": {
      "image/png": "[encoded data removed]",
      "text/plain": [
       "<Figure size 432x288 with 1 Axes>"
      ]
     },
     "metadata": {
      "needs_background": "light"
     },
     "output_type": "display_data"
    }
   ],
   "source": [
    "temp_df = dataset.groupby('bowler')['is_wicket'].agg('sum').reset_index().sort_values(by='is_wicket', ascending=False).reset_index(drop=True).head(10)\n",
    "sns.barplot(x=temp_df['bowler'],y=temp_df['is_wicket'],data=temp_df)\n",
    "\n",
    "plt.title(\"Most wickets by a bowler\")\n",
    "plt.xticks(rotation=90)\n",
    "plt.xlabel(\"Bowler\")\n",
    "plt.ylabel(\"Number of wickets\")\n",
    "plt.show()"
   ]
  },
  {
   "cell_type": "markdown",
   "id": "9a6031b2",
   "metadata": {
    "papermill": {
     "duration": 0.064531,
     "end_time": "2021-07-13T17:26:09.887788",
     "exception": false,
     "start_time": "2021-07-13T17:26:09.823257",
     "status": "completed"
    },
    "tags": []
   },
   "source": [
    "\n",
    "\n"
   ]
  }
 ],
 "metadata": {
  "kernelspec": {
   "display_name": "Python 3",
   "language": "python",
   "name": "python3"
  },
  "language_info": {
   "codemirror_mode": {
    "name": "ipython",
    "version": 3
   },
   "file_extension": ".py",
   "mimetype": "text/x-python",
   "name": "python",
   "nbconvert_exporter": "python",
   "pygments_lexer": "ipython3",
   "version": "3.7.10"
  },
  "papermill": {
   "default_parameters": {},
   "duration": 21.727372,
   "end_time": "2021-07-13T17:26:10.761747",
   "environment_variables": {},
   "exception": null,
   "input_path": "__notebook__.ipynb",
   "output_path": "__notebook__.ipynb",
   "parameters": {},
   "start_time": "2021-07-13T17:25:49.034375",
   "version": "2.3.3"
  }
 },
 "nbformat": 4,
 "nbformat_minor": 5
}
